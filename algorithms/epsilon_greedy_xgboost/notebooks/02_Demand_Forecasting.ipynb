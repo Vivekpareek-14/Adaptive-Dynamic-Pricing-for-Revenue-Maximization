{
 "cells": [
  {
   "cell_type": "code",
   "execution_count": 1,
   "id": "0d3b9ea2-d049-41c0-80ef-2959ea2f642f",
   "metadata": {},
   "outputs": [],
   "source": [
    "import pandas as pd\n",
    "import numpy as np\n",
    "import matplotlib.pyplot as plt\n",
    "from xgboost import XGBRegressor\n",
    "from sklearn.model_selection import train_test_split\n",
    "from sklearn.metrics import mean_squared_error\n",
    "from xgboost import plot_importance\n",
    "\n",
    "# Load data\n",
    "PROCESSED_FILE = '../data/processed/sales_cleaned.csv'\n",
    "df = pd.read_csv(PROCESSED_FILE, parse_dates=['Order Date'])\n",
    "\n"
   ]
  },
  {
   "cell_type": "code",
   "execution_count": 2,
   "id": "2502a500-1899-4e2b-bc54-a1972c74f6bd",
   "metadata": {
    "scrolled": true
   },
   "outputs": [],
   "source": [
    "# 1. Define features and target as we agreed\n",
    "# We REMOVE 'Price Each' (it's static)\n",
    "# We ADD 'Product', 'City', and 'DayOfWeek' to get a rich forecast\n",
    "features = ['Product', 'City', 'Month', 'Hour', 'DayOfWeek']\n",
    "target = 'Quantity Ordered'\n",
    "\n",
    "X = df[features]\n",
    "y = df[target]"
   ]
  },
  {
   "cell_type": "code",
   "execution_count": 3,
   "id": "2dce9379-7511-43c0-9bab-10ea80b53df4",
   "metadata": {},
   "outputs": [],
   "source": [
    "# 2. Handle Categorical Features (CRITICAL STEP)\n",
    "# XGBoost requires all inputs to be numeric. We'll use One-Hot Encoding.\n",
    "X_encoded = pd.get_dummies(X, columns=['Product', 'City'])"
   ]
  },
  {
   "cell_type": "code",
   "execution_count": null,
   "id": "59d61cdd-e154-4504-8925-3b0960e5ed69",
   "metadata": {},
   "outputs": [
    {
     "name": "stdout",
     "output_type": "stream",
     "text": [
      "Training XGBoost Demand Forecaster...\n"
     ]
    }
   ],
   "source": [
    "# 3. Split the data\n",
    "# Note: We split the *encoded* data\n",
    "X_train, X_test, y_train, y_test = train_test_split(X_encoded, y, test_size=0.2, random_state=42)\n",
    "\n",
    "# 4. Train the XGBoost Model\n",
    "xgb_model = XGBRegressor(\n",
    "    n_estimators=300,\n",
    "    learning_rate=0.05,\n",
    "    max_depth=5,\n",
    "    subsample=0.8,\n",
    "    colsample_bytree=0.8,\n",
    "    random_state=42,\n",
    "    enable_categorical=False # We already one-hot encoded\n",
    ")\n",
    "\n",
    "print(\"Training XGBoost Demand Forecaster...\")\n",
    "xgb_model.fit(X_train, y_train)"
   ]
  },
  {
   "cell_type": "code",
   "execution_count": null,
   "id": "9b93e781-6366-44f0-8ab8-f27560070e3a",
   "metadata": {},
   "outputs": [],
   "source": [
    "# 5. Evaluate the Model\n",
    "y_pred = xgb_model.predict(X_test)\n",
    "# Since quantity is discrete (1, 2, 3), let's round the predictions\n",
    "y_pred_rounded = np.round(y_pred) \n",
    "rmse = np.sqrt(mean_squared_error(y_test, y_pred_rounded))\n",
    "print(f\"Model Training Complete.\")\n",
    "# RMSE will tell us, on average, how many units our forecast is \"off\" by.\n",
    "# An RMSE close to 0 is great. \n",
    "print(f\"Model RMSE: {rmse:.3f} units\") "
   ]
  },
  {
   "cell_type": "code",
   "execution_count": null,
   "id": "549c3a74-2d36-4469-abef-4b25980c365f",
   "metadata": {},
   "outputs": [],
   "source": [
    "# 6. Show REAL Feature Importance\n",
    "# This now tells us WHAT actually drives demand (at the current prices)\n",
    "plt.figure(figsize=(10, 8))\n",
    "plot_importance(xgb_model, max_num_features=20) # Show top 20 features\n",
    "plt.title(\"Feature Importance for Demand Forecasting\")\n",
    "plt.show()"
   ]
  },
  {
   "cell_type": "code",
   "execution_count": null,
   "id": "8ed04e84-f3f4-4043-807f-8f559612c995",
   "metadata": {},
   "outputs": [],
   "source": [
    "# 7. Save the trained model\n",
    "import os\n",
    "\n",
    "MODEL_DIR = '../models/'\n",
    "os.makedirs(MODEL_DIR, exist_ok=True)\n",
    "MODEL_PATH = os.path.join(MODEL_DIR, 'xgb_demand_forecaster.json')\n",
    "\n",
    "# Use the .save_model() method for XGBoost\n",
    "xgb_model.save_model(MODEL_PATH)\n",
    "\n",
    "print(f\"Model saved successfully to {MODEL_PATH}\")"
   ]
  }
 ],
 "metadata": {
  "kernelspec": {
   "display_name": "Python 3 (ipykernel)",
   "language": "python",
   "name": "python3"
  },
  "language_info": {
   "codemirror_mode": {
    "name": "ipython",
    "version": 3
   },
   "file_extension": ".py",
   "mimetype": "text/x-python",
   "name": "python",
   "nbconvert_exporter": "python",
   "pygments_lexer": "ipython3",
   "version": "3.12.10"
  }
 },
 "nbformat": 4,
 "nbformat_minor": 5
}
